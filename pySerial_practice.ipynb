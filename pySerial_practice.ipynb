{
 "cells": [
  {
   "cell_type": "markdown",
   "metadata": {},
   "source": [
    "## Install pyserial"
   ]
  },
  {
   "cell_type": "code",
   "execution_count": 1,
   "metadata": {},
   "outputs": [
    {
     "name": "stdout",
     "output_type": "stream",
     "text": [
      "Collecting pyserial\n",
      "  Using cached pyserial-3.5-py2.py3-none-any.whl.metadata (1.6 kB)\n",
      "Using cached pyserial-3.5-py2.py3-none-any.whl (90 kB)\n",
      "Installing collected packages: pyserial\n",
      "Successfully installed pyserial-3.5\n",
      "Note: you may need to restart the kernel to use updated packages.\n"
     ]
    }
   ],
   "source": [
    "%pip install pyserial"
   ]
  },
  {
   "cell_type": "code",
   "execution_count": 40,
   "metadata": {},
   "outputs": [],
   "source": [
    "import serial"
   ]
  },
  {
   "cell_type": "markdown",
   "metadata": {},
   "source": [
    "## Find usable ports"
   ]
  },
  {
   "cell_type": "markdown",
   "metadata": {},
   "source": [
    "You will only see usable ports when the microcontroller is plugged in"
   ]
  },
  {
   "cell_type": "code",
   "execution_count": 63,
   "metadata": {},
   "outputs": [
    {
     "name": "stdout",
     "output_type": "stream",
     "text": [
      "/dev/cu.Bluetooth-Incoming-Port\n",
      "/dev/cu.usbmodem0010502332261\n",
      "/dev/cu.usbmodem0010502332263\n",
      "3 ports found\n"
     ]
    }
   ],
   "source": [
    "!python -m serial.tools.list_ports"
   ]
  },
  {
   "cell_type": "markdown",
   "metadata": {},
   "source": [
    "## Using the ports"
   ]
  },
  {
   "cell_type": "markdown",
   "metadata": {},
   "source": [
    "/dev/cu.Bluetooth-Incoming-Port\n",
    "/dev/cu.usbmodem0010502595781\n",
    "/dev/cu.usbmodem0010502595783"
   ]
  },
  {
   "cell_type": "code",
   "execution_count": 74,
   "metadata": {},
   "outputs": [
    {
     "name": "stdout",
     "output_type": "stream",
     "text": [
      "/dev/cu.usbmodem0010502332261\n"
     ]
    }
   ],
   "source": [
    "ser = serial.Serial(\"/dev/cu.usbmodem0010502332261\",baudrate=115200, \n",
    "        parity=serial.PARITY_NONE,\n",
    "        stopbits=serial.STOPBITS_ONE,\n",
    "        bytesize=serial.EIGHTBITS,\n",
    "        timeout=1)\n",
    "print(ser.name)"
   ]
  },
  {
   "cell_type": "code",
   "execution_count": 69,
   "metadata": {},
   "outputs": [
    {
     "data": {
      "text/plain": [
       "19"
      ]
     },
     "execution_count": 69,
     "metadata": {},
     "output_type": "execute_result"
    }
   ],
   "source": [
    "data_to_send = \"123.2453.5.46...45\\n\"\n",
    "ser.write(data_to_send.encode('utf-8'))"
   ]
  },
  {
   "cell_type": "markdown",
   "metadata": {},
   "source": [
    "Nothing has been sent to the port so it is not reading at the moment. If a timeout is set when defining [ser], an empty string will be returned"
   ]
  },
  {
   "cell_type": "code",
   "execution_count": 76,
   "metadata": {},
   "outputs": [
    {
     "data": {
      "text/plain": [
       "['7.00',\n",
       " '4.00',\n",
       " '23.50',\n",
       " '99.00',\n",
       " '18.00',\n",
       " '21.00',\n",
       " '5.00',\n",
       " '100.00',\n",
       " '13.00',\n",
       " '21.00',\n",
       " '18.00',\n",
       " '21.00',\n",
       " '79.00',\n",
       " '73.00',\n",
       " '1.00',\n",
       " '62.00',\n",
       " '45.00',\n",
       " '27.00',\n",
       " '18.00',\n",
       " '19.00',\n",
       " '20.00',\n",
       " '21.00',\n",
       " '10.00',\n",
       " '23.00',\n",
       " '28.00',\n",
       " '33.00',\n",
       " '39.00',\n",
       " '55.00',\n",
       " '28.00',\n",
       " '29.00',\n",
       " '8.00',\n",
       " '2.00',\n",
       " '66.00',\n",
       " '77.00',\n",
       " '91.00',\n",
       " '44.00',\n",
       " '36.00',\n",
       " '37.00',\n",
       " '38.00',\n",
       " '39.00',\n",
       " '18.00',\n",
       " '21.00',\n",
       " '75.00',\n",
       " '25.00',\n",
       " '61.00',\n",
       " '45.00',\n",
       " '18.00',\n",
       " '22.00',\n",
       " '75.00',\n",
       " '34.00',\n",
       " '35.00',\n",
       " '38.00',\n",
       " '18.00',\n",
       " '21.00',\n",
       " '54.00',\n",
       " '55.00',\n",
       " '17.00',\n",
       " '16.00',\n",
       " '18.00',\n",
       " '21.00',\n",
       " '60.00',\n",
       " '61.00',\n",
       " '18.00',\n",
       " '21.00',\n",
       " '10.00',\n",
       " '6.00',\n",
       " '45.00',\n",
       " '28.00',\n",
       " '1.00',\n",
       " '2.00',\n",
       " '0.00',\n",
       " '12.00',\n",
       " '66.00',\n",
       " '64.00',\n",
       " '18.00',\n",
       " '21.00',\n",
       " '15.00',\n",
       " '27.00',\n",
       " '78.00',\n",
       " '79.00',\n",
       " '100.00',\n",
       " '71.00',\n",
       " '30.00',\n",
       " '29.00',\n",
       " '18.00',\n",
       " '21.00',\n",
       " '86.00',\n",
       " '87.00',\n",
       " '48.00',\n",
       " '20.00',\n",
       " '18.00',\n",
       " '21.00',\n",
       " '33.00',\n",
       " '16.00',\n",
       " '67.00',\n",
       " '22.00',\n",
       " '18.00',\n",
       " '21.00',\n",
       " '98.00',\n",
       " '99.00']"
      ]
     },
     "execution_count": 76,
     "metadata": {},
     "output_type": "execute_result"
    }
   ],
   "source": [
    "data = ser.readline().decode('utf-8').strip().split('\\t')\n",
    "data"
   ]
  },
  {
   "cell_type": "code",
   "execution_count": 72,
   "metadata": {},
   "outputs": [
    {
     "name": "stdout",
     "output_type": "stream",
     "text": [
      "Everything up-to-date\n"
     ]
    }
   ],
   "source": [
    "!git push"
   ]
  },
  {
   "cell_type": "markdown",
   "metadata": {},
   "source": [
    "Does this do anything?"
   ]
  },
  {
   "cell_type": "code",
   "execution_count": null,
   "metadata": {},
   "outputs": [],
   "source": []
  }
 ],
 "metadata": {
  "kernelspec": {
   "display_name": "astro",
   "language": "python",
   "name": "python3"
  },
  "language_info": {
   "codemirror_mode": {
    "name": "ipython",
    "version": 3
   },
   "file_extension": ".py",
   "mimetype": "text/x-python",
   "name": "python",
   "nbconvert_exporter": "python",
   "pygments_lexer": "ipython3",
   "version": "3.12.3"
  }
 },
 "nbformat": 4,
 "nbformat_minor": 2
}
