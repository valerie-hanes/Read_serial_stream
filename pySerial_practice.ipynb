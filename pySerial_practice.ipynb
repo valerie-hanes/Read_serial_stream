{
 "cells": [
  {
   "cell_type": "markdown",
   "metadata": {},
   "source": [
    "## Install pyserial"
   ]
  },
  {
   "cell_type": "code",
   "execution_count": 1,
   "metadata": {},
   "outputs": [
    {
     "name": "stdout",
     "output_type": "stream",
     "text": [
      "Collecting pyserial\n",
      "  Using cached pyserial-3.5-py2.py3-none-any.whl.metadata (1.6 kB)\n",
      "Using cached pyserial-3.5-py2.py3-none-any.whl (90 kB)\n",
      "Installing collected packages: pyserial\n",
      "Successfully installed pyserial-3.5\n",
      "Note: you may need to restart the kernel to use updated packages.\n"
     ]
    }
   ],
   "source": [
    "%pip install pyserial"
   ]
  },
  {
   "cell_type": "code",
   "execution_count": 40,
   "metadata": {},
   "outputs": [],
   "source": [
    "import serial"
   ]
  },
  {
   "cell_type": "markdown",
   "metadata": {},
   "source": [
    "## Find usable ports"
   ]
  },
  {
   "cell_type": "markdown",
   "metadata": {},
   "source": [
    "You will only see usable ports when the microcontroller is plugged in"
   ]
  },
  {
   "cell_type": "code",
   "execution_count": 63,
   "metadata": {},
   "outputs": [
    {
     "name": "stdout",
     "output_type": "stream",
     "text": [
      "/dev/cu.Bluetooth-Incoming-Port\n",
      "/dev/cu.usbmodem0010502332261\n",
      "/dev/cu.usbmodem0010502332263\n",
      "3 ports found\n"
     ]
    }
   ],
   "source": [
    "!python -m serial.tools.list_ports"
   ]
  },
  {
   "cell_type": "markdown",
   "metadata": {},
   "source": [
    "## Using the ports"
   ]
  },
  {
   "cell_type": "markdown",
   "metadata": {},
   "source": [
    "/dev/cu.Bluetooth-Incoming-Port\n",
    "/dev/cu.usbmodem0010502595781\n",
    "/dev/cu.usbmodem0010502595783"
   ]
  },
  {
   "cell_type": "code",
   "execution_count": 68,
   "metadata": {},
   "outputs": [
    {
     "name": "stdout",
     "output_type": "stream",
     "text": [
      "/dev/cu.usbmodem0010502332261\n"
     ]
    }
   ],
   "source": [
    "ser = serial.Serial(\"/dev/cu.usbmodem0010502332261\",baudrate=115200, \n",
    "        parity=serial.PARITY_NONE,\n",
    "        stopbits=serial.STOPBITS_ONE,\n",
    "        bytesize=serial.EIGHTBITS,\n",
    "        timeout=1)\n",
    "print(ser.name)"
   ]
  },
  {
   "cell_type": "code",
   "execution_count": 69,
   "metadata": {},
   "outputs": [
    {
     "data": {
      "text/plain": [
       "19"
      ]
     },
     "execution_count": 69,
     "metadata": {},
     "output_type": "execute_result"
    }
   ],
   "source": [
    "data_to_send = \"123.2453.5.46...45\\n\"\n",
    "ser.write(data_to_send.encode('utf-8'))"
   ]
  },
  {
   "cell_type": "markdown",
   "metadata": {},
   "source": [
    "Nothing has been sent to the port so it is not reading at the moment. If a timeout is set when defining [ser], an empty string will be returned"
   ]
  },
  {
   "cell_type": "code",
   "execution_count": 73,
   "metadata": {},
   "outputs": [
    {
     "ename": "SerialException",
     "evalue": "read failed: [Errno 6] Device not configured",
     "output_type": "error",
     "traceback": [
      "\u001b[0;31m---------------------------------------------------------------------------\u001b[0m",
      "\u001b[0;31mOSError\u001b[0m                                   Traceback (most recent call last)",
      "File \u001b[0;32m/opt/anaconda3/envs/astro/lib/python3.12/site-packages/serial/serialposix.py:575\u001b[0m, in \u001b[0;36mSerial.read\u001b[0;34m(self, size)\u001b[0m\n\u001b[1;32m    574\u001b[0m         \u001b[38;5;28;01mbreak\u001b[39;00m   \u001b[38;5;66;03m# timeout\u001b[39;00m\n\u001b[0;32m--> 575\u001b[0m     buf \u001b[38;5;241m=\u001b[39m \u001b[43mos\u001b[49m\u001b[38;5;241;43m.\u001b[39;49m\u001b[43mread\u001b[49m\u001b[43m(\u001b[49m\u001b[38;5;28;43mself\u001b[39;49m\u001b[38;5;241;43m.\u001b[39;49m\u001b[43mfd\u001b[49m\u001b[43m,\u001b[49m\u001b[43m \u001b[49m\u001b[43msize\u001b[49m\u001b[43m \u001b[49m\u001b[38;5;241;43m-\u001b[39;49m\u001b[43m \u001b[49m\u001b[38;5;28;43mlen\u001b[39;49m\u001b[43m(\u001b[49m\u001b[43mread\u001b[49m\u001b[43m)\u001b[49m\u001b[43m)\u001b[49m\n\u001b[1;32m    576\u001b[0m \u001b[38;5;28;01mexcept\u001b[39;00m \u001b[38;5;167;01mOSError\u001b[39;00m \u001b[38;5;28;01mas\u001b[39;00m e:\n\u001b[1;32m    577\u001b[0m     \u001b[38;5;66;03m# this is for Python 3.x where select.error is a subclass of\u001b[39;00m\n\u001b[1;32m    578\u001b[0m     \u001b[38;5;66;03m# OSError ignore BlockingIOErrors and EINTR. other errors are shown\u001b[39;00m\n\u001b[1;32m    579\u001b[0m     \u001b[38;5;66;03m# https://www.python.org/dev/peps/pep-0475.\u001b[39;00m\n",
      "\u001b[0;31mOSError\u001b[0m: [Errno 6] Device not configured",
      "\nDuring handling of the above exception, another exception occurred:\n",
      "\u001b[0;31mSerialException\u001b[0m                           Traceback (most recent call last)",
      "Cell \u001b[0;32mIn[73], line 1\u001b[0m\n\u001b[0;32m----> 1\u001b[0m \u001b[43mser\u001b[49m\u001b[38;5;241;43m.\u001b[39;49m\u001b[43mreadline\u001b[49m\u001b[43m(\u001b[49m\u001b[43m)\u001b[49m\n",
      "File \u001b[0;32m/opt/anaconda3/envs/astro/lib/python3.12/site-packages/serial/serialposix.py:581\u001b[0m, in \u001b[0;36mSerial.read\u001b[0;34m(self, size)\u001b[0m\n\u001b[1;32m    576\u001b[0m \u001b[38;5;28;01mexcept\u001b[39;00m \u001b[38;5;167;01mOSError\u001b[39;00m \u001b[38;5;28;01mas\u001b[39;00m e:\n\u001b[1;32m    577\u001b[0m     \u001b[38;5;66;03m# this is for Python 3.x where select.error is a subclass of\u001b[39;00m\n\u001b[1;32m    578\u001b[0m     \u001b[38;5;66;03m# OSError ignore BlockingIOErrors and EINTR. other errors are shown\u001b[39;00m\n\u001b[1;32m    579\u001b[0m     \u001b[38;5;66;03m# https://www.python.org/dev/peps/pep-0475.\u001b[39;00m\n\u001b[1;32m    580\u001b[0m     \u001b[38;5;28;01mif\u001b[39;00m e\u001b[38;5;241m.\u001b[39merrno \u001b[38;5;129;01mnot\u001b[39;00m \u001b[38;5;129;01min\u001b[39;00m (errno\u001b[38;5;241m.\u001b[39mEAGAIN, errno\u001b[38;5;241m.\u001b[39mEALREADY, errno\u001b[38;5;241m.\u001b[39mEWOULDBLOCK, errno\u001b[38;5;241m.\u001b[39mEINPROGRESS, errno\u001b[38;5;241m.\u001b[39mEINTR):\n\u001b[0;32m--> 581\u001b[0m         \u001b[38;5;28;01mraise\u001b[39;00m SerialException(\u001b[38;5;124m'\u001b[39m\u001b[38;5;124mread failed: \u001b[39m\u001b[38;5;132;01m{}\u001b[39;00m\u001b[38;5;124m'\u001b[39m\u001b[38;5;241m.\u001b[39mformat(e))\n\u001b[1;32m    582\u001b[0m \u001b[38;5;28;01mexcept\u001b[39;00m select\u001b[38;5;241m.\u001b[39merror \u001b[38;5;28;01mas\u001b[39;00m e:\n\u001b[1;32m    583\u001b[0m     \u001b[38;5;66;03m# this is for Python 2.x\u001b[39;00m\n\u001b[1;32m    584\u001b[0m     \u001b[38;5;66;03m# ignore BlockingIOErrors and EINTR. all errors are shown\u001b[39;00m\n\u001b[1;32m    585\u001b[0m     \u001b[38;5;66;03m# see also http://www.python.org/dev/peps/pep-3151/#select\u001b[39;00m\n\u001b[1;32m    586\u001b[0m     \u001b[38;5;28;01mif\u001b[39;00m e[\u001b[38;5;241m0\u001b[39m] \u001b[38;5;129;01mnot\u001b[39;00m \u001b[38;5;129;01min\u001b[39;00m (errno\u001b[38;5;241m.\u001b[39mEAGAIN, errno\u001b[38;5;241m.\u001b[39mEALREADY, errno\u001b[38;5;241m.\u001b[39mEWOULDBLOCK, errno\u001b[38;5;241m.\u001b[39mEINPROGRESS, errno\u001b[38;5;241m.\u001b[39mEINTR):\n",
      "\u001b[0;31mSerialException\u001b[0m: read failed: [Errno 6] Device not configured"
     ]
    }
   ],
   "source": [
    "ser.readline()"
   ]
  },
  {
   "cell_type": "code",
   "execution_count": 71,
   "metadata": {},
   "outputs": [
    {
     "data": {
      "text/plain": [
       "['7.00', '4.00', '23.50', '99.00']"
      ]
     },
     "execution_count": 71,
     "metadata": {},
     "output_type": "execute_result"
    }
   ],
   "source": [
    "data = ser.readline().decode('utf-8').strip().split('\\t')\n",
    "data"
   ]
  },
  {
   "cell_type": "code",
   "execution_count": 72,
   "metadata": {},
   "outputs": [
    {
     "name": "stdout",
     "output_type": "stream",
     "text": [
      "Everything up-to-date\n"
     ]
    }
   ],
   "source": [
    "!git push"
   ]
  },
  {
   "cell_type": "markdown",
   "metadata": {},
   "source": [
    "Does this do anything?"
   ]
  },
  {
   "cell_type": "code",
   "execution_count": null,
   "metadata": {},
   "outputs": [],
   "source": []
  }
 ],
 "metadata": {
  "kernelspec": {
   "display_name": "astro",
   "language": "python",
   "name": "python3"
  },
  "language_info": {
   "codemirror_mode": {
    "name": "ipython",
    "version": 3
   },
   "file_extension": ".py",
   "mimetype": "text/x-python",
   "name": "python",
   "nbconvert_exporter": "python",
   "pygments_lexer": "ipython3",
   "version": "3.12.3"
  }
 },
 "nbformat": 4,
 "nbformat_minor": 2
}
